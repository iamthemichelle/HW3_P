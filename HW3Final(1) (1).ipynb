{
 "cells": [
  {
   "cell_type": "markdown",
   "metadata": {},
   "source": [
    "# CS2311 - Data Structures and Algorithms with Python\n",
    "## Homework 3\n",
    "## Due Date: See BlackBoard"
   ]
  },
  {
   "cell_type": "markdown",
   "metadata": {},
   "source": [
    "## Team Name (If Applicable): [EDIT YOUR TEAM NAME HERE]"
   ]
  },
  {
   "cell_type": "markdown",
   "metadata": {},
   "source": [
    "## Student Name(s): [EDIT YOUR NAME(s) HERE]"
   ]
  },
  {
   "cell_type": "markdown",
   "metadata": {},
   "source": [
    "**SUBMISSION GUIDELINES**\n",
    "\n",
    "1. First design, develop and test your code in a Jupyter notebook or other development environment\n",
    "   - You can expirement and try different things in this notebook\n",
    "2. Then copy your final code and markdown cells into the Jupyter Notebook file (.ipynb) provided for the assignment and submit to Blackboard\n",
    "   - **Your submission file should be named HW3Final.ipynb**\n",
    "   - I must be able to open and run your notebook in order to grade it\n",
    "3. Note that the Jupyter notebook provided for final submission may contain testing code to help you check that your output and expected match.  \n",
    "   - Follow the instructions in the notebook for copying your code and running the testing code\n",
    "   - The instructor may run additional tests to check that your code runs correctly\n",
    "4. If asked, also provide any supporting files or images requested in the assignment\n",
    "   - If there are multiple files to submit you should zip the files into one folder and submit the folder\n",
    "\n",
    "**GRADING CRITERIA:**\n",
    "1. Good documentation/comments and program readability using both markdown cells and code comments\n",
    "2. Algorithm/pseudo-code is explained in a markdown cell and is efficiently written\n",
    "3. Program runs correctly for test cases with no syntax errors or logical errors\n",
    "\n",
    "***The instructor should be able to reproduce your work from your notebook.***"
   ]
  },
  {
   "cell_type": "markdown",
   "metadata": {},
   "source": [
    "## 1. [40 points] Minimum in list algorithms – benchmark and plot"
   ]
  },
  {
   "cell_type": "markdown",
   "metadata": {},
   "source": [
    "### Algorithm Steps (Linear):\n",
    "1. Get the list of random integers\n",
    "2. Set the first item to the minimum\n",
    "3. For each item in the list compare to the previous minimum and set item to minimum if lower\n",
    "4. Return the minimum found"
   ]
  },
  {
   "cell_type": "code",
   "execution_count": 135,
   "metadata": {},
   "outputs": [],
   "source": [
    "import timeit\n",
    "import random\n",
    "from timeit import Timer"
   ]
  },
  {
   "cell_type": "code",
   "execution_count": 136,
   "metadata": {},
   "outputs": [],
   "source": [
    "# Complete the code\n",
    "def p1_f_linear(x):\n",
    "\n",
    "    \"\"\"DocTest module Expected Output Test - don't change or delete these lines\n",
    "        \n",
    "    >>> x = [565, 872, 711, 964, 340, 761, 2, 233, 562, 854]\n",
    "    >>> print(\"The minimum is: \",p1_f_linear(x))\n",
    "    The minimum is:  2\n",
    "    \"\"\"\n",
    "    # ******ENTER YOUR FINAL CHECKED CODE AFTER THIS COMMENT BLOCK*******************\n",
    "    min_ele = x[0] \n",
    "    for i in range(1,len(x)):\n",
    "        if x[i]<min_ele:\n",
    "            min_ele=x[i]\n",
    "            \n",
    "    return min_ele"
   ]
  },
  {
   "cell_type": "code",
   "execution_count": 137,
   "metadata": {
    "scrolled": true
   },
   "outputs": [
    {
     "name": "stdout",
     "output_type": "stream",
     "text": [
      "The minimum is:  2\n"
     ]
    }
   ],
   "source": [
    "x = [565, 872, 711, 964, 340, 761, 2, 233, 562, 854]\n",
    "print(\"The minimum is: \",p1_f_linear(x))"
   ]
  },
  {
   "cell_type": "markdown",
   "metadata": {},
   "source": [
    "### Algorithm Steps (Quadratic):\n",
    "1. Get the list of random integers\n",
    "2. Get first item and compare to all remaining items and look for the smallest value\n",
    "3. Go to the next item in the list and repeat step 2\n",
    "4. Return the minimum found"
   ]
  },
  {
   "cell_type": "code",
   "execution_count": 211,
   "metadata": {},
   "outputs": [],
   "source": [
    "# Complete the code\n",
    "def p1_f_quadratic(x):\n",
    "\n",
    "    \"\"\"DocTest module Expected Output Test - don't change or delete these lines\n",
    "        \n",
    "    >>> x = [565, 872, 711, 964, 340, 761, 2, 233, 562, 854]\n",
    "    >>> print(\"The minimum is: \", p1_f_quadratic(x))\n",
    "    The minimum is:  2\n",
    "    \"\"\"\n",
    "\n",
    "    # Given in the problem\n",
    "    min = x[0]\n",
    "    l = len(x)\n",
    "    for i in range(l):\n",
    "        for j in range(i+1,l):\n",
    "            if x[i]<x[j] and x[i]<min:\n",
    "                min = x[i]\n",
    "    return min"
   ]
  },
  {
   "cell_type": "code",
   "execution_count": 212,
   "metadata": {},
   "outputs": [
    {
     "name": "stdout",
     "output_type": "stream",
     "text": [
      "The minimum is:  2\n"
     ]
    }
   ],
   "source": [
    "x = [565, 872, 711, 964, 340, 761, 2, 233, 562, 854]\n",
    "print(\"The minimum is: \", p1_f_quadratic(x))"
   ]
  },
  {
   "cell_type": "markdown",
   "metadata": {},
   "source": [
    "### Create a function to do a benchmark for linear algorithm using test using timeit.Timer\n",
    "1. Pass an array of random numbers and measure how long it takes to run the linear algorithm\n",
    "2. Set **t.timeit(number=1)**.  Otherwise the code will run much more slowly."
   ]
  },
  {
   "cell_type": "code",
   "execution_count": 368,
   "metadata": {},
   "outputs": [],
   "source": [
    "# Complete the code\n",
    "def p1_timeit_linear(x):\n",
    "    \"\"\"DocTest module Expected Output Test - don't change or delete these lines\n",
    "        \n",
    "    >>> x=[2, 3, 4, 5, 6, 4, 0, 1]\n",
    "    >>> lin  = p1_timeit_linear(x)\n",
    "    >>> print(lin*1000_000>0.3)\n",
    "    True\n",
    "    \n",
    "    \"\"\"\n",
    "    # ******ENTER YOUR FINAL CHECKED CODE AFTER THIS COMMENT BLOCK*******************\n",
    "    min_ele = x[0] \n",
    "    for i in range(1,len(x)):\n",
    "        return (timeit.timeit(number = 1))\n"
   ]
  },
  {
   "cell_type": "code",
   "execution_count": 369,
   "metadata": {},
   "outputs": [
    {
     "name": "stdout",
     "output_type": "stream",
     "text": [
      "True\n"
     ]
    }
   ],
   "source": [
    "x=[2, 3, 4, 5, 6, 4, 0, 1]\n",
    "lin  = p1_timeit_linear(x)\n",
    "print(lin*1000_000>0.3)"
   ]
  },
  {
   "cell_type": "markdown",
   "metadata": {},
   "source": [
    "### Create a function to do a benchmark for quadratic algorithm using test using timeit.Timer\n",
    "1. Pass an array of random numbers and measure how long it takes to run the quadratic algorithm\n",
    "2. Set **t.timeit(number=1)**.  Otherwise the code will run much more slowly."
   ]
  },
  {
   "cell_type": "code",
   "execution_count": 433,
   "metadata": {},
   "outputs": [],
   "source": [
    "# Complete the code\n",
    "def p1_timeit_quad(x):\n",
    "    \"\"\"DocTest module Expected Output Test - don't change or delete these lines\n",
    "        \n",
    "    >>> x=[2, 3, 4, 5, 6, 4, 0, 1]\n",
    "    >>> lin  = p1_timeit_linear(x)\n",
    "    >>> quad = p1_timeit_quad(x)\n",
    "    >>> print(quad*1000_000>5)\n",
    "    True\n",
    "    >>> print(round(quad/lin,3)>1)\n",
    "    True\n",
    "    \n",
    "    \"\"\" \n",
    "    l = []\n",
    "    for i in range(len(x)):\n",
    "        l = l + [i]\n",
    "        for j in range(i+1,len(x)):\n",
    "            return (timeit.timeit(number = 1))"
   ]
  },
  {
   "cell_type": "code",
   "execution_count": 440,
   "metadata": {
    "scrolled": true
   },
   "outputs": [
    {
     "name": "stdout",
     "output_type": "stream",
     "text": [
      "False\n"
     ]
    }
   ],
   "source": [
    "x=[2, 3, 4, 5, 6, 4, 0, 1]\n",
    "lin  = p1_timeit_linear(x)\n",
    "quad = p1_timeit_quad(x)\n",
    "print(quad*1000_000>5)"
   ]
  },
  {
   "cell_type": "code",
   "execution_count": 439,
   "metadata": {},
   "outputs": [
    {
     "name": "stdout",
     "output_type": "stream",
     "text": [
      "False\n"
     ]
    }
   ],
   "source": [
    "print(round(quad/lin,3)>1)"
   ]
  },
  {
   "cell_type": "code",
   "execution_count": 441,
   "metadata": {
    "scrolled": true
   },
   "outputs": [
    {
     "name": "stdout",
     "output_type": "stream",
     "text": [
      "Linear: The minimum is:  2\n",
      "Quadratic: The minimum is:  2\n",
      "Ratio of quad/linear is greater than 1:  0.571\n"
     ]
    }
   ],
   "source": [
    "# Run your code by calling the function(s) \n",
    "# Always test your code to check that you get what you expect\n",
    "if __name__ == '__main__':\n",
    "    \n",
    "# Test: p1_f_linear(x)\n",
    "    # test list of random integers\n",
    "    x = [565, 872, 711, 964, 340, 761, 2, 233, 562, 854]\n",
    "    min = p1_f_linear(x)\n",
    "    print(\"Linear: The minimum is: \", min)\n",
    "    \n",
    "# Test: p1_f_quadratic(x) \n",
    "    # test list of random integers\n",
    "    x = [565, 872, 711, 964, 340, 761, 2, 233, 562, 854]\n",
    "    min = p1_f_quadratic(x)\n",
    "    print(\"Quadratic: The minimum is: \", min)\n",
    "    \n",
    "# Test: p1_timeit_linear(x) and p1_timeit_quad(). Check that running time is longer for quadratic algorithm   \n",
    "    # test list of random integers\n",
    "    x=[2, 3, 4, 5, 6, 4, 0, 1]\n",
    "    lin  = p1_timeit_linear(x)\n",
    "    quad = p1_timeit_quad(x)\n",
    "    # ratio \n",
    "    print(\"Ratio of quad/linear is greater than 1: \",round(quad/lin,3))"
   ]
  },
  {
   "cell_type": "code",
   "execution_count": 396,
   "metadata": {},
   "outputs": [
    {
     "name": "stdout",
     "output_type": "stream",
     "text": [
      "RUNNING UNIT TESTS - NO FEEDBACK = OK!!\n",
      "**********************************************************************\n",
      "File \"__main__\", line 8, in __main__.p1_timeit_quad\n",
      "Failed example:\n",
      "    print(quad*1000_000>5)\n",
      "Expected:\n",
      "    True\n",
      "Got:\n",
      "    False\n",
      "**********************************************************************\n",
      "File \"__main__\", line 10, in __main__.p1_timeit_quad\n",
      "Failed example:\n",
      "    print(round(quad/lin,3)>1)\n",
      "Expected:\n",
      "    True\n",
      "Got:\n",
      "    False\n",
      "**********************************************************************\n",
      "1 items had failures:\n",
      "   2 of   5 in __main__.p1_timeit_quad\n",
      "***Test Failed*** 2 failures.\n"
     ]
    }
   ],
   "source": [
    "# ************************************************************************\n",
    "# DocTest: RUN THIS CELL TO CHECK THAT YOUR CODE MATCHES THE EXPECTED OUTPUT\n",
    "#*************************************************************************\n",
    "# this code checks that your output matches the expected result\n",
    "# continue to test your code until you get an Ok result for your test\n",
    "# the instructor will run this test and possibly others to check your code\n",
    "# Submit your code even if you can't get the tests to run without failures.\n",
    "# The instructor will look at your code and try to spot any errors and provide feedback\n",
    "if __name__ == '__main__':\n",
    "    import doctest\n",
    "    print(\"RUNNING UNIT TESTS - NO FEEDBACK = OK!!\")\n",
    "    doctest.testmod(verbose=False)   # Set verbose = True if you want to see detailed log"
   ]
  },
  {
   "cell_type": "markdown",
   "metadata": {},
   "source": [
    "### Algorithm Steps for Benchmark Test:\n",
    "1. Write a for loop to create arrays of random integers from 0 to 999 of size n with n ranging from 'Lowx' to 'Highx' in increments of 'Increment'\n",
    "2. Run the linear time and quad time function for each of the arrays\n",
    "3. Save the results in size, linear, and quad arrays\n",
    "4. Calcuate the ratio of quadratic time to linear time\n",
    "5. Display a table showing array size, linear time, quadratic time, and quadratic/linear time ratio"
   ]
  },
  {
   "cell_type": "code",
   "execution_count": 400,
   "metadata": {
    "scrolled": true
   },
   "outputs": [
    {
     "name": "stdout",
     "output_type": "stream",
     "text": [
      "Array Size        Linear          Quad   ratio\n",
      "   Array      Linear       Quad   Ratio\n",
      "   Array      Linear       Quad   Ratio\n",
      "   Array      Linear       Quad   Ratio\n",
      "   Array      Linear       Quad   Ratio\n",
      "   Array      Linear       Quad   Ratio\n",
      "   Array      Linear       Quad   Ratio\n",
      "   Array      Linear       Quad   Ratio\n",
      "   Array      Linear       Quad   Ratio\n",
      "   Array      Linear       Quad   Ratio\n",
      "   Array      Linear       Quad   Ratio\n",
      "   Array      Linear       Quad   Ratio\n",
      "   Array      Linear       Quad   Ratio\n",
      "   Array      Linear       Quad   Ratio\n",
      "   Array      Linear       Quad   Ratio\n",
      "   Array      Linear       Quad   Ratio\n",
      "   Array      Linear       Quad   Ratio\n",
      "   Array      Linear       Quad   Ratio\n",
      "   Array      Linear       Quad   Ratio\n",
      "   Array      Linear       Quad   Ratio\n",
      "   Array      Linear       Quad   Ratio\n",
      "   Array      Linear       Quad   Ratio\n",
      "   Array      Linear       Quad   Ratio\n",
      "   Array      Linear       Quad   Ratio\n",
      "   Array      Linear       Quad   Ratio\n",
      "   Array      Linear       Quad   Ratio\n",
      "   Array      Linear       Quad   Ratio\n",
      "   Array      Linear       Quad   Ratio\n",
      "   Array      Linear       Quad   Ratio\n",
      "   Array      Linear       Quad   Ratio\n",
      "   Array      Linear       Quad   Ratio\n",
      "   Array      Linear       Quad   Ratio\n",
      "   Array      Linear       Quad   Ratio\n",
      "   Array      Linear       Quad   Ratio\n",
      "   Array      Linear       Quad   Ratio\n",
      "   Array      Linear       Quad   Ratio\n",
      "   Array      Linear       Quad   Ratio\n",
      "   Array      Linear       Quad   Ratio\n",
      "   Array      Linear       Quad   Ratio\n",
      "   Array      Linear       Quad   Ratio\n",
      "   Array      Linear       Quad   Ratio\n",
      "   Array      Linear       Quad   Ratio\n",
      "   Array      Linear       Quad   Ratio\n",
      "   Array      Linear       Quad   Ratio\n",
      "   Array      Linear       Quad   Ratio\n",
      "   Array      Linear       Quad   Ratio\n",
      "   Array      Linear       Quad   Ratio\n",
      "   Array      Linear       Quad   Ratio\n",
      "   Array      Linear       Quad   Ratio\n",
      "   Array      Linear       Quad   Ratio\n",
      "   Array      Linear       Quad   Ratio\n",
      "   Array      Linear       Quad   Ratio\n",
      "   Array      Linear       Quad   Ratio\n",
      "   Array      Linear       Quad   Ratio\n",
      "   Array      Linear       Quad   Ratio\n",
      "   Array      Linear       Quad   Ratio\n",
      "   Array      Linear       Quad   Ratio\n",
      "   Array      Linear       Quad   Ratio\n",
      "   Array      Linear       Quad   Ratio\n",
      "   Array      Linear       Quad   Ratio\n",
      "   Array      Linear       Quad   Ratio\n",
      "   Array      Linear       Quad   Ratio\n",
      "   Array      Linear       Quad   Ratio\n",
      "   Array      Linear       Quad   Ratio\n",
      "   Array      Linear       Quad   Ratio\n",
      "   Array      Linear       Quad   Ratio\n",
      "   Array      Linear       Quad   Ratio\n",
      "   Array      Linear       Quad   Ratio\n",
      "   Array      Linear       Quad   Ratio\n",
      "   Array      Linear       Quad   Ratio\n",
      "   Array      Linear       Quad   Ratio\n",
      "   Array      Linear       Quad   Ratio\n",
      "   Array      Linear       Quad   Ratio\n",
      "   Array      Linear       Quad   Ratio\n",
      "   Array      Linear       Quad   Ratio\n",
      "   Array      Linear       Quad   Ratio\n",
      "   Array      Linear       Quad   Ratio\n",
      "   Array      Linear       Quad   Ratio\n",
      "   Array      Linear       Quad   Ratio\n",
      "   Array      Linear       Quad   Ratio\n",
      "   Array      Linear       Quad   Ratio\n",
      "   Array      Linear       Quad   Ratio\n",
      "   Array      Linear       Quad   Ratio\n",
      "   Array      Linear       Quad   Ratio\n",
      "   Array      Linear       Quad   Ratio\n",
      "   Array      Linear       Quad   Ratio\n",
      "   Array      Linear       Quad   Ratio\n",
      "   Array      Linear       Quad   Ratio\n",
      "   Array      Linear       Quad   Ratio\n",
      "   Array      Linear       Quad   Ratio\n",
      "   Array      Linear       Quad   Ratio\n"
     ]
    }
   ],
   "source": [
    "# Complete/Enter your code\n",
    "\n",
    "import random\n",
    "\n",
    "# Size of random number arrays to test\n",
    "Lowx      = 1\n",
    "Highx     = 20_000\n",
    "Increment = 2000\n",
    "\n",
    "# Set up table header\n",
    "print(\"Array Size        Linear          Quad   ratio\")\n",
    "\n",
    "# Set up arrays to hold values for run times\n",
    "size   = []\n",
    "linear = []\n",
    "quad   = []\n",
    "\n",
    "# Write a for loop to create the arrays of random numbers (0 to 999) for the different size arrays\n",
    "# and run the benchmark tests\n",
    "for n in range(Lowx,Highx,Increment):\n",
    "    \n",
    "    # create a random array of integers from 0 to 999 of size n\n",
    "   \n",
    "   \n",
    "    # run the benchmark on each of the linear and quad functions\n",
    "    lin_time    = p1_timeit_linear(x)\n",
    "    quad_time   = p1_timeit_quad(x)\n",
    "    \n",
    "    # calculate the run time ratio of quadratic time to linear time\n",
    "   \n",
    "    # One million runs to 10 milion step by a million\n",
    "    for i in range(1000000,10000000,1000000):\n",
    "    \n",
    "    # print table showing array size, linear time, quadratic time and ratio of quadratic/linear time\n",
    "        print(\"   Array      Linear       Quad   Ratio\")\n",
    "    \n",
    "    #store the results in the arrays for plotting.\n",
    "    \n",
    "\n",
    "\n",
    "# One million runs to 10 milion step by a million\n"
   ]
  },
  {
   "cell_type": "markdown",
   "metadata": {},
   "source": [
    "### Create linear, log time and NlogN time curves\n",
    "1. Create curves for linear time, log time and NlogN time functions\n",
    "2. Scale these so they can be overlaid on a chart"
   ]
  },
  {
   "cell_type": "code",
   "execution_count": 66,
   "metadata": {
    "scrolled": true
   },
   "outputs": [],
   "source": [
    "# use this code\n",
    "import math\n",
    "\n",
    "# Create functions for linear, log time, and nlog time\n",
    "# Set scale to get charts to plot on one chart\n",
    "scale = 1/25_000\n",
    "\n",
    "n_time = [(n*scale,math.log(n)*scale,n*math.log(n)*scale) for n in range(Lowx,Highx,Increment)]\n",
    "\n",
    "# Use these arrays for your plots\n",
    "lin_time  = [item[0] for item in n_time]\n",
    "log_time  = [item[1] for item in n_time]\n",
    "nlog_time = [item[2] for item in n_time]"
   ]
  },
  {
   "cell_type": "markdown",
   "metadata": {},
   "source": [
    "### Create plot of your linear algorithm vs logN curve\n",
    "1. Create a function to plot x vs y1, y2 with a title, legend, labelled x and y axis\n",
    "2. Pass in the x, y1, y2 values as lists, and the label1, label2 for the legend and title for the plot\n",
    "2. Plot the run time for your linear algorithm against the LogN curve\n",
    "3. Plot the run time for your linear algorithm against the LogN curve\n",
    "4. Your figure should look something like the figures shown (note your run times will be different becuase of our environment)"
   ]
  },
  {
   "cell_type": "code",
   "execution_count": 67,
   "metadata": {},
   "outputs": [],
   "source": [
    "# Complete/Enter your code\n",
    "import matplotlib.pyplot as plt\n",
    "\n",
    "def plot_scenario(x,y1,y2,label1,label2,Title):\n",
    "    \n",
    "    \n",
    "    \n",
    "    \n",
    "    \n",
    "    plt.show()                          "
   ]
  },
  {
   "cell_type": "markdown",
   "metadata": {},
   "source": [
    "### Figure 1:  Runtime for linear algorithm"
   ]
  },
  {
   "cell_type": "code",
   "execution_count": 68,
   "metadata": {
    "scrolled": false
   },
   "outputs": [
    {
     "data": {
      "image/png": "[encoded data removed]",
      "text/plain": [
       "<Figure size 432x288 with 1 Axes>"
      ]
     },
     "metadata": {
      "needs_background": "light"
     },
     "output_type": "display_data"
    }
   ],
   "source": [
    "plot_scenario(size,linear,log_time,\"Linear\",\"Log Time\",\"Linear Algorithm\")"
   ]
  },
  {
   "cell_type": "markdown",
   "metadata": {},
   "source": [
    "### Figure 2:  Runtime for quadratic algorithm"
   ]
  },
  {
   "cell_type": "code",
   "execution_count": 69,
   "metadata": {
    "scrolled": false
   },
   "outputs": [
    {
     "data": {
      "image/png": "[encoded data removed]",
      "text/plain": [
       "<Figure size 432x288 with 1 Axes>"
      ]
     },
     "metadata": {
      "needs_background": "light"
     },
     "output_type": "display_data"
    }
   ],
   "source": [
    "plot_scenario(size,quad,nlog_time,\"Quadratic\",\"NlogN\",\"Quadratic Algorithm\")"
   ]
  },
  {
   "cell_type": "markdown",
   "metadata": {},
   "source": [
    "### Try to answer the following questions:"
   ]
  },
  {
   "cell_type": "markdown",
   "metadata": {},
   "source": [
    "1. Why do we use an array of random integers to run our benchmark tests?\n",
    "Answer:"
   ]
  },
  {
   "cell_type": "markdown",
   "metadata": {},
   "source": [
    "2. What could account for the “jagged” shape of the run-times in the plots?\n",
    "Answer:"
   ]
  },
  {
   "cell_type": "markdown",
   "metadata": {},
   "source": [
    "3. Is this a big enough sample size to be confident that we understand the Big-O performance of the algorithms – why or why not?\n",
    "Answer:"
   ]
  }
 ],
 "metadata": {
  "kernelspec": {
   "display_name": "Python 3 (ipykernel)",
   "language": "python",
   "name": "python3"
  },
  "language_info": {
   "codemirror_mode": {
    "name": "ipython",
    "version": 3
   },
   "file_extension": ".py",
   "mimetype": "text/x-python",
   "name": "python",
   "nbconvert_exporter": "python",
   "pygments_lexer": "ipython3",
   "version": "3.9.7"
  }
 },
 "nbformat": 4,
 "nbformat_minor": 4
}
